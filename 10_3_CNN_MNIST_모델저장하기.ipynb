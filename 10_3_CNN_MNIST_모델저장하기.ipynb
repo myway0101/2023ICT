{
  "cells": [
    {
      "cell_type": "code",
      "execution_count": 1,
      "metadata": {
        "id": "HAjsP8o8N1On"
      },
      "outputs": [],
      "source": [
        "from tensorflow.keras import datasets, layers, models\n",
        "from keras.callbacks import ModelCheckpoint, EarlyStopping"
      ]
    },
    {
      "cell_type": "code",
      "execution_count": null,
      "metadata": {
        "id": "ZVxUa0fSN48m"
      },
      "outputs": [],
      "source": [
        "(train_images, train_labels), (test_images, test_labels) = datasets.mnist.load_data()\n",
        "train_images = train_images.reshape((60000, 28, 28, 1))\n",
        "test_images = test_images.reshape((10000, 28, 28, 1))"
      ]
    },
    {
      "cell_type": "code",
      "execution_count": null,
      "metadata": {
        "colab": {
          "base_uri": "https://localhost:8080/"
        },
        "id": "-uBviKbPVb6V",
        "outputId": "11bdd388-c868-4ecc-d0e9-c4a5008c0306"
      },
      "outputs": [
        {
          "output_type": "stream",
          "name": "stdout",
          "text": [
            "(60000, 28, 28, 1)\n"
          ]
        }
      ],
      "source": [
        "print(train_images.shape)"
      ]
    },
    {
      "cell_type": "code",
      "execution_count": 3,
      "metadata": {
        "id": "6LvpNxfcN9w9"
      },
      "outputs": [],
      "source": [
        "# 픽셀 값을 0~1 사이로 정규화한다.\n",
        "train_images, test_images = train_images / 255.0, test_images / 255.0"
      ]
    },
    {
      "cell_type": "code",
      "execution_count": 4,
      "metadata": {
        "id": "-S_RwRShN_81"
      },
      "outputs": [],
      "source": [
        "model = models.Sequential()\n",
        "\n",
        "model.add(layers.Conv2D(32, (3, 3), activation='relu', input_shape=(28, 28, 1)))\n",
        "model.add(layers.MaxPooling2D((2, 2)))\n",
        "model.add(layers.Conv2D(64, (3, 3), activation='relu'))\n",
        "model.add(layers.MaxPooling2D((2, 2)))\n",
        "model.add(layers.Conv2D(64, (3, 3), activation='relu'))\n",
        "\n",
        "model.add(layers.Flatten())\n",
        "model.add(layers.Dense(64, activation='relu'))\n",
        "model.add(layers.Dense(10, activation='softmax'))"
      ]
    },
    {
      "cell_type": "code",
      "execution_count": 5,
      "metadata": {
        "colab": {
          "base_uri": "https://localhost:8080/"
        },
        "id": "bJlgLeoNOCbl",
        "outputId": "a8139948-a762-424e-c548-f000d57df5d9"
      },
      "outputs": [
        {
          "output_type": "stream",
          "name": "stdout",
          "text": [
            "Model: \"sequential\"\n",
            "_________________________________________________________________\n",
            " Layer (type)                Output Shape              Param #   \n",
            "=================================================================\n",
            " conv2d (Conv2D)             (None, 26, 26, 32)        320       \n",
            "                                                                 \n",
            " max_pooling2d (MaxPooling2D  (None, 13, 13, 32)       0         \n",
            " )                                                               \n",
            "                                                                 \n",
            " conv2d_1 (Conv2D)           (None, 11, 11, 64)        18496     \n",
            "                                                                 \n",
            " max_pooling2d_1 (MaxPooling  (None, 5, 5, 64)         0         \n",
            " 2D)                                                             \n",
            "                                                                 \n",
            " conv2d_2 (Conv2D)           (None, 3, 3, 64)          36928     \n",
            "                                                                 \n",
            " flatten (Flatten)           (None, 576)               0         \n",
            "                                                                 \n",
            " dense (Dense)               (None, 64)                36928     \n",
            "                                                                 \n",
            " dense_1 (Dense)             (None, 10)                650       \n",
            "                                                                 \n",
            "=================================================================\n",
            "Total params: 93,322\n",
            "Trainable params: 93,322\n",
            "Non-trainable params: 0\n",
            "_________________________________________________________________\n"
          ]
        }
      ],
      "source": [
        "model.summary()"
      ]
    },
    {
      "cell_type": "code",
      "execution_count": 6,
      "metadata": {
        "id": "i3gjU_OdOEVl"
      },
      "outputs": [],
      "source": [
        "model.compile(optimizer='adam',\n",
        "              loss='sparse_categorical_crossentropy',\n",
        "              metrics=['accuracy'])\n"
      ]
    },
    {
      "cell_type": "code",
      "source": [
        "modelpath = \"./model_save/{epoch:03d}-{val_loss:.4f}.hdf5\""
      ],
      "metadata": {
        "id": "qYJ4fTv752UQ"
      },
      "execution_count": 7,
      "outputs": []
    },
    {
      "cell_type": "code",
      "source": [
        "checkpointer = ModelCheckpoint(filepath = modelpath, monitor = 'val_loss', verbose =1, save_best_only=True)\n",
        "early_stopping_callback = EarlyStopping(monitor = 'val_loss', patience = 10)"
      ],
      "metadata": {
        "id": "LaSjxJAQ6Lpv"
      },
      "execution_count": 8,
      "outputs": []
    },
    {
      "cell_type": "code",
      "execution_count": 9,
      "metadata": {
        "colab": {
          "base_uri": "https://localhost:8080/"
        },
        "id": "HMiyTiXnOWu2",
        "outputId": "fe17063b-f3c6-4cd8-d69d-d93556ad234d"
      },
      "outputs": [
        {
          "output_type": "stream",
          "name": "stdout",
          "text": [
            "Epoch 1/30\n",
            "233/240 [============================>.] - ETA: 0s - loss: 0.3543 - accuracy: 0.8968\n",
            "Epoch 1: val_loss improved from inf to 0.10496, saving model to ./model_save/001-0.1050.hdf5\n",
            "240/240 [==============================] - 14s 7ms/step - loss: 0.3475 - accuracy: 0.8986 - val_loss: 0.1050 - val_accuracy: 0.9697\n",
            "Epoch 2/30\n",
            "231/240 [===========================>..] - ETA: 0s - loss: 0.0792 - accuracy: 0.9760\n",
            "Epoch 2: val_loss improved from 0.10496 to 0.06195, saving model to ./model_save/002-0.0619.hdf5\n",
            "240/240 [==============================] - 1s 6ms/step - loss: 0.0792 - accuracy: 0.9760 - val_loss: 0.0619 - val_accuracy: 0.9810\n",
            "Epoch 3/30\n",
            "231/240 [===========================>..] - ETA: 0s - loss: 0.0553 - accuracy: 0.9831\n",
            "Epoch 3: val_loss improved from 0.06195 to 0.05260, saving model to ./model_save/003-0.0526.hdf5\n",
            "240/240 [==============================] - 1s 6ms/step - loss: 0.0549 - accuracy: 0.9832 - val_loss: 0.0526 - val_accuracy: 0.9845\n",
            "Epoch 4/30\n",
            "240/240 [==============================] - ETA: 0s - loss: 0.0447 - accuracy: 0.9861\n",
            "Epoch 4: val_loss did not improve from 0.05260\n",
            "240/240 [==============================] - 1s 6ms/step - loss: 0.0447 - accuracy: 0.9861 - val_loss: 0.0671 - val_accuracy: 0.9809\n",
            "Epoch 5/30\n",
            "240/240 [==============================] - ETA: 0s - loss: 0.0360 - accuracy: 0.9883\n",
            "Epoch 5: val_loss improved from 0.05260 to 0.04209, saving model to ./model_save/005-0.0421.hdf5\n",
            "240/240 [==============================] - 1s 6ms/step - loss: 0.0360 - accuracy: 0.9883 - val_loss: 0.0421 - val_accuracy: 0.9876\n",
            "Epoch 6/30\n",
            "235/240 [============================>.] - ETA: 0s - loss: 0.0288 - accuracy: 0.9907\n",
            "Epoch 6: val_loss did not improve from 0.04209\n",
            "240/240 [==============================] - 1s 6ms/step - loss: 0.0289 - accuracy: 0.9907 - val_loss: 0.0438 - val_accuracy: 0.9864\n",
            "Epoch 7/30\n",
            "237/240 [============================>.] - ETA: 0s - loss: 0.0256 - accuracy: 0.9921\n",
            "Epoch 7: val_loss did not improve from 0.04209\n",
            "240/240 [==============================] - 1s 6ms/step - loss: 0.0256 - accuracy: 0.9921 - val_loss: 0.0435 - val_accuracy: 0.9872\n",
            "Epoch 8/30\n",
            "237/240 [============================>.] - ETA: 0s - loss: 0.0220 - accuracy: 0.9926\n",
            "Epoch 8: val_loss improved from 0.04209 to 0.04110, saving model to ./model_save/008-0.0411.hdf5\n",
            "240/240 [==============================] - 2s 7ms/step - loss: 0.0219 - accuracy: 0.9927 - val_loss: 0.0411 - val_accuracy: 0.9887\n",
            "Epoch 9/30\n",
            "237/240 [============================>.] - ETA: 0s - loss: 0.0171 - accuracy: 0.9941\n",
            "Epoch 9: val_loss improved from 0.04110 to 0.03826, saving model to ./model_save/009-0.0383.hdf5\n",
            "240/240 [==============================] - 1s 6ms/step - loss: 0.0170 - accuracy: 0.9942 - val_loss: 0.0383 - val_accuracy: 0.9884\n",
            "Epoch 10/30\n",
            "239/240 [============================>.] - ETA: 0s - loss: 0.0147 - accuracy: 0.9952\n",
            "Epoch 10: val_loss did not improve from 0.03826\n",
            "240/240 [==============================] - 1s 5ms/step - loss: 0.0147 - accuracy: 0.9951 - val_loss: 0.0386 - val_accuracy: 0.9892\n",
            "Epoch 11/30\n",
            "232/240 [============================>.] - ETA: 0s - loss: 0.0148 - accuracy: 0.9950\n",
            "Epoch 11: val_loss improved from 0.03826 to 0.03417, saving model to ./model_save/011-0.0342.hdf5\n",
            "240/240 [==============================] - 1s 6ms/step - loss: 0.0147 - accuracy: 0.9950 - val_loss: 0.0342 - val_accuracy: 0.9894\n",
            "Epoch 12/30\n",
            "231/240 [===========================>..] - ETA: 0s - loss: 0.0121 - accuracy: 0.9959\n",
            "Epoch 12: val_loss did not improve from 0.03417\n",
            "240/240 [==============================] - 1s 5ms/step - loss: 0.0122 - accuracy: 0.9958 - val_loss: 0.0369 - val_accuracy: 0.9900\n",
            "Epoch 13/30\n",
            "240/240 [==============================] - ETA: 0s - loss: 0.0090 - accuracy: 0.9971\n",
            "Epoch 13: val_loss did not improve from 0.03417\n",
            "240/240 [==============================] - 1s 5ms/step - loss: 0.0090 - accuracy: 0.9971 - val_loss: 0.0406 - val_accuracy: 0.9898\n",
            "Epoch 14/30\n",
            "232/240 [============================>.] - ETA: 0s - loss: 0.0091 - accuracy: 0.9969\n",
            "Epoch 14: val_loss did not improve from 0.03417\n",
            "240/240 [==============================] - 1s 5ms/step - loss: 0.0093 - accuracy: 0.9968 - val_loss: 0.0421 - val_accuracy: 0.9889\n",
            "Epoch 15/30\n",
            "238/240 [============================>.] - ETA: 0s - loss: 0.0094 - accuracy: 0.9967\n",
            "Epoch 15: val_loss did not improve from 0.03417\n",
            "240/240 [==============================] - 1s 5ms/step - loss: 0.0095 - accuracy: 0.9966 - val_loss: 0.0434 - val_accuracy: 0.9888\n",
            "Epoch 16/30\n",
            "235/240 [============================>.] - ETA: 0s - loss: 0.0081 - accuracy: 0.9973\n",
            "Epoch 16: val_loss did not improve from 0.03417\n",
            "240/240 [==============================] - 1s 5ms/step - loss: 0.0081 - accuracy: 0.9973 - val_loss: 0.0426 - val_accuracy: 0.9890\n",
            "Epoch 17/30\n",
            "240/240 [==============================] - ETA: 0s - loss: 0.0054 - accuracy: 0.9982\n",
            "Epoch 17: val_loss did not improve from 0.03417\n",
            "240/240 [==============================] - 2s 7ms/step - loss: 0.0054 - accuracy: 0.9982 - val_loss: 0.0400 - val_accuracy: 0.9905\n",
            "Epoch 18/30\n",
            "233/240 [============================>.] - ETA: 0s - loss: 0.0056 - accuracy: 0.9981\n",
            "Epoch 18: val_loss did not improve from 0.03417\n",
            "240/240 [==============================] - 1s 6ms/step - loss: 0.0057 - accuracy: 0.9981 - val_loss: 0.0460 - val_accuracy: 0.9911\n",
            "Epoch 19/30\n",
            "230/240 [===========================>..] - ETA: 0s - loss: 0.0058 - accuracy: 0.9980\n",
            "Epoch 19: val_loss did not improve from 0.03417\n",
            "240/240 [==============================] - 1s 5ms/step - loss: 0.0059 - accuracy: 0.9979 - val_loss: 0.0441 - val_accuracy: 0.9907\n",
            "Epoch 20/30\n",
            "239/240 [============================>.] - ETA: 0s - loss: 0.0055 - accuracy: 0.9982\n",
            "Epoch 20: val_loss did not improve from 0.03417\n",
            "240/240 [==============================] - 1s 5ms/step - loss: 0.0055 - accuracy: 0.9983 - val_loss: 0.0446 - val_accuracy: 0.9895\n",
            "Epoch 21/30\n",
            "239/240 [============================>.] - ETA: 0s - loss: 0.0075 - accuracy: 0.9973\n",
            "Epoch 21: val_loss did not improve from 0.03417\n",
            "240/240 [==============================] - 2s 6ms/step - loss: 0.0076 - accuracy: 0.9973 - val_loss: 0.0444 - val_accuracy: 0.9883\n"
          ]
        }
      ],
      "source": [
        "history = model.fit(train_images, train_labels, validation_split = 0.2, epochs=30, batch_size = 200, callbacks=[early_stopping_callback,checkpointer])"
      ]
    },
    {
      "cell_type": "code",
      "source": [
        "test_loss, test_acc = model.evaluate(test_images, test_labels)\n",
        "print('테스트 정확도:', test_acc)"
      ],
      "metadata": {
        "id": "U-uWAD2UhciU"
      },
      "execution_count": null,
      "outputs": []
    },
    {
      "cell_type": "code",
      "execution_count": 10,
      "metadata": {
        "id": "0TqbuDO3q6cj"
      },
      "outputs": [],
      "source": [
        "model = models.load_model('./model_save/011-0.0342.hdf5')"
      ]
    },
    {
      "cell_type": "code",
      "execution_count": 11,
      "metadata": {
        "colab": {
          "base_uri": "https://localhost:8080/"
        },
        "id": "UCRHxXvTOYcE",
        "outputId": "c91b9c87-d6d5-4105-9632-dfa1a9193c20"
      },
      "outputs": [
        {
          "output_type": "stream",
          "name": "stdout",
          "text": [
            "313/313 [==============================] - 1s 3ms/step - loss: 0.0286 - accuracy: 0.9907\n",
            "테스트 정확도: 0.9907000064849854\n"
          ]
        }
      ],
      "source": [
        "test_loss, test_acc = model.evaluate(test_images, test_labels)\n",
        "print('테스트 정확도:', test_acc)"
      ]
    },
    {
      "cell_type": "code",
      "execution_count": 12,
      "metadata": {
        "colab": {
          "base_uri": "https://localhost:8080/",
          "height": 449
        },
        "id": "Bx1rv_H5PWle",
        "outputId": "317a5142-09e4-4f2f-fa90-7b146ed17e13"
      },
      "outputs": [
        {
          "output_type": "display_data",
          "data": {
            "text/plain": [
              "<Figure size 640x480 with 1 Axes>"
            ],
            "image/png": "[encoded data removed]"
          },
          "metadata": {}
        }
      ],
      "source": [
        "import numpy as np\n",
        "import matplotlib.pyplot as plt\n",
        "# 테스트 셋의 오차\n",
        "y_vloss = history.history['val_loss']\n",
        "\n",
        "# 학습셋의 오차\n",
        "y_loss = history.history['loss']\n",
        "\n",
        "# 그래프로 표현\n",
        "x_len = np.arange(1, len(y_loss)+1)\n",
        "plt.plot(x_len, y_vloss, marker='.', c=\"red\", label='Testset_loss')\n",
        "plt.plot(x_len, y_loss, marker='.', c=\"blue\", label='Trainset_loss')\n",
        "\n",
        "# 그래프에 그리드를 주고 레이블을 표시\n",
        "plt.legend(loc='upper right')\n",
        "plt.grid()\n",
        "plt.xlabel('epoch')\n",
        "plt.ylabel('loss')\n",
        "plt.show()"
      ]
    },
    {
      "cell_type": "code",
      "execution_count": null,
      "metadata": {
        "colab": {
          "background_save": true
        },
        "id": "4hihLurw9DF_"
      },
      "outputs": [],
      "source": []
    },
    {
      "cell_type": "code",
      "source": [
        "from google.colab import files\n",
        "uploaded = files.upload()"
      ],
      "metadata": {
        "colab": {
          "base_uri": "https://localhost:8080/",
          "height": 76
        },
        "id": "ZD8I36RY7ud7",
        "outputId": "03188ecf-247d-49ea-8865-05658209f948"
      },
      "execution_count": 13,
      "outputs": [
        {
          "output_type": "display_data",
          "data": {
            "text/plain": [
              "<IPython.core.display.HTML object>"
            ],
            "text/html": [
              "\n",
              "     <input type=\"file\" id=\"files-974d8427-27ed-4db5-8716-f93aa9e350b6\" name=\"files[]\" multiple disabled\n",
              "        style=\"border:none\" />\n",
              "     <output id=\"result-974d8427-27ed-4db5-8716-f93aa9e350b6\">\n",
              "      Upload widget is only available when the cell has been executed in the\n",
              "      current browser session. Please rerun this cell to enable.\n",
              "      </output>\n",
              "      <script>// Copyright 2017 Google LLC\n",
              "//\n",
              "// Licensed under the Apache License, Version 2.0 (the \"License\");\n",
              "// you may not use this file except in compliance with the License.\n",
              "// You may obtain a copy of the License at\n",
              "//\n",
              "//      http://www.apache.org/licenses/LICENSE-2.0\n",
              "//\n",
              "// Unless required by applicable law or agreed to in writing, software\n",
              "// distributed under the License is distributed on an \"AS IS\" BASIS,\n",
              "// WITHOUT WARRANTIES OR CONDITIONS OF ANY KIND, either express or implied.\n",
              "// See the License for the specific language governing permissions and\n",
              "// limitations under the License.\n",
              "\n",
              "/**\n",
              " * @fileoverview Helpers for google.colab Python module.\n",
              " */\n",
              "(function(scope) {\n",
              "function span(text, styleAttributes = {}) {\n",
              "  const element = document.createElement('span');\n",
              "  element.textContent = text;\n",
              "  for (const key of Object.keys(styleAttributes)) {\n",
              "    element.style[key] = styleAttributes[key];\n",
              "  }\n",
              "  return element;\n",
              "}\n",
              "\n",
              "// Max number of bytes which will be uploaded at a time.\n",
              "const MAX_PAYLOAD_SIZE = 100 * 1024;\n",
              "\n",
              "function _uploadFiles(inputId, outputId) {\n",
              "  const steps = uploadFilesStep(inputId, outputId);\n",
              "  const outputElement = document.getElementById(outputId);\n",
              "  // Cache steps on the outputElement to make it available for the next call\n",
              "  // to uploadFilesContinue from Python.\n",
              "  outputElement.steps = steps;\n",
              "\n",
              "  return _uploadFilesContinue(outputId);\n",
              "}\n",
              "\n",
              "// This is roughly an async generator (not supported in the browser yet),\n",
              "// where there are multiple asynchronous steps and the Python side is going\n",
              "// to poll for completion of each step.\n",
              "// This uses a Promise to block the python side on completion of each step,\n",
              "// then passes the result of the previous step as the input to the next step.\n",
              "function _uploadFilesContinue(outputId) {\n",
              "  const outputElement = document.getElementById(outputId);\n",
              "  const steps = outputElement.steps;\n",
              "\n",
              "  const next = steps.next(outputElement.lastPromiseValue);\n",
              "  return Promise.resolve(next.value.promise).then((value) => {\n",
              "    // Cache the last promise value to make it available to the next\n",
              "    // step of the generator.\n",
              "    outputElement.lastPromiseValue = value;\n",
              "    return next.value.response;\n",
              "  });\n",
              "}\n",
              "\n",
              "/**\n",
              " * Generator function which is called between each async step of the upload\n",
              " * process.\n",
              " * @param {string} inputId Element ID of the input file picker element.\n",
              " * @param {string} outputId Element ID of the output display.\n",
              " * @return {!Iterable<!Object>} Iterable of next steps.\n",
              " */\n",
              "function* uploadFilesStep(inputId, outputId) {\n",
              "  const inputElement = document.getElementById(inputId);\n",
              "  inputElement.disabled = false;\n",
              "\n",
              "  const outputElement = document.getElementById(outputId);\n",
              "  outputElement.innerHTML = '';\n",
              "\n",
              "  const pickedPromise = new Promise((resolve) => {\n",
              "    inputElement.addEventListener('change', (e) => {\n",
              "      resolve(e.target.files);\n",
              "    });\n",
              "  });\n",
              "\n",
              "  const cancel = document.createElement('button');\n",
              "  inputElement.parentElement.appendChild(cancel);\n",
              "  cancel.textContent = 'Cancel upload';\n",
              "  const cancelPromise = new Promise((resolve) => {\n",
              "    cancel.onclick = () => {\n",
              "      resolve(null);\n",
              "    };\n",
              "  });\n",
              "\n",
              "  // Wait for the user to pick the files.\n",
              "  const files = yield {\n",
              "    promise: Promise.race([pickedPromise, cancelPromise]),\n",
              "    response: {\n",
              "      action: 'starting',\n",
              "    }\n",
              "  };\n",
              "\n",
              "  cancel.remove();\n",
              "\n",
              "  // Disable the input element since further picks are not allowed.\n",
              "  inputElement.disabled = true;\n",
              "\n",
              "  if (!files) {\n",
              "    return {\n",
              "      response: {\n",
              "        action: 'complete',\n",
              "      }\n",
              "    };\n",
              "  }\n",
              "\n",
              "  for (const file of files) {\n",
              "    const li = document.createElement('li');\n",
              "    li.append(span(file.name, {fontWeight: 'bold'}));\n",
              "    li.append(span(\n",
              "        `(${file.type || 'n/a'}) - ${file.size} bytes, ` +\n",
              "        `last modified: ${\n",
              "            file.lastModifiedDate ? file.lastModifiedDate.toLocaleDateString() :\n",
              "                                    'n/a'} - `));\n",
              "    const percent = span('0% done');\n",
              "    li.appendChild(percent);\n",
              "\n",
              "    outputElement.appendChild(li);\n",
              "\n",
              "    const fileDataPromise = new Promise((resolve) => {\n",
              "      const reader = new FileReader();\n",
              "      reader.onload = (e) => {\n",
              "        resolve(e.target.result);\n",
              "      };\n",
              "      reader.readAsArrayBuffer(file);\n",
              "    });\n",
              "    // Wait for the data to be ready.\n",
              "    let fileData = yield {\n",
              "      promise: fileDataPromise,\n",
              "      response: {\n",
              "        action: 'continue',\n",
              "      }\n",
              "    };\n",
              "\n",
              "    // Use a chunked sending to avoid message size limits. See b/62115660.\n",
              "    let position = 0;\n",
              "    do {\n",
              "      const length = Math.min(fileData.byteLength - position, MAX_PAYLOAD_SIZE);\n",
              "      const chunk = new Uint8Array(fileData, position, length);\n",
              "      position += length;\n",
              "\n",
              "      const base64 = btoa(String.fromCharCode.apply(null, chunk));\n",
              "      yield {\n",
              "        response: {\n",
              "          action: 'append',\n",
              "          file: file.name,\n",
              "          data: base64,\n",
              "        },\n",
              "      };\n",
              "\n",
              "      let percentDone = fileData.byteLength === 0 ?\n",
              "          100 :\n",
              "          Math.round((position / fileData.byteLength) * 100);\n",
              "      percent.textContent = `${percentDone}% done`;\n",
              "\n",
              "    } while (position < fileData.byteLength);\n",
              "  }\n",
              "\n",
              "  // All done.\n",
              "  yield {\n",
              "    response: {\n",
              "      action: 'complete',\n",
              "    }\n",
              "  };\n",
              "}\n",
              "\n",
              "scope.google = scope.google || {};\n",
              "scope.google.colab = scope.google.colab || {};\n",
              "scope.google.colab._files = {\n",
              "  _uploadFiles,\n",
              "  _uploadFilesContinue,\n",
              "};\n",
              "})(self);\n",
              "</script> "
            ]
          },
          "metadata": {}
        },
        {
          "output_type": "stream",
          "name": "stdout",
          "text": [
            "Saving 테스트이미지.png to 테스트이미지.png\n"
          ]
        }
      ]
    },
    {
      "cell_type": "code",
      "source": [
        "filename = '테스트이미지.png'"
      ],
      "metadata": {
        "id": "VyZMohkj9-Nw"
      },
      "execution_count": 14,
      "outputs": []
    },
    {
      "cell_type": "code",
      "source": [
        "import cv2 as cv\n",
        "import matplotlib.pyplot as plt\n",
        "\n",
        "image=cv.imread(filename, cv.IMREAD_GRAYSCALE)\n",
        "image = cv.resize(image, (28, 28))\n",
        "plt.imshow(image, cmap = 'Greys')\n",
        "plt.show()"
      ],
      "metadata": {
        "colab": {
          "base_uri": "https://localhost:8080/",
          "height": 430
        },
        "id": "8i15KfT--K4T",
        "outputId": "49117466-3c2a-49c6-dd07-1b2c996b395d"
      },
      "execution_count": 15,
      "outputs": [
        {
          "output_type": "display_data",
          "data": {
            "text/plain": [
              "<Figure size 640x480 with 1 Axes>"
            ],
            "image/png": "[encoded data removed]"
          },
          "metadata": {}
        }
      ]
    },
    {
      "cell_type": "code",
      "source": [
        "image = 255 - image\n",
        "plt.imshow(image, cmap = 'Greys')\n",
        "plt.show()"
      ],
      "metadata": {
        "colab": {
          "base_uri": "https://localhost:8080/",
          "height": 430
        },
        "id": "Cgmm7ZNE-f-v",
        "outputId": "21262195-e6ba-49d6-9ace-b0b64061044b"
      },
      "execution_count": 16,
      "outputs": [
        {
          "output_type": "display_data",
          "data": {
            "text/plain": [
              "<Figure size 640x480 with 1 Axes>"
            ],
            "image/png": "[encoded data removed]"
          },
          "metadata": {}
        }
      ]
    },
    {
      "cell_type": "code",
      "source": [
        "pred = model.predict(image.reshape(1, 28,28,1))\n",
        "print(pred)"
      ],
      "metadata": {
        "colab": {
          "base_uri": "https://localhost:8080/"
        },
        "id": "MtNduGD2-3DW",
        "outputId": "a26b9afe-6726-4935-ccfc-47e38b538133"
      },
      "execution_count": 20,
      "outputs": [
        {
          "output_type": "stream",
          "name": "stdout",
          "text": [
            "1/1 [==============================] - 1s 527ms/step\n",
            "[[0. 0. 1. 0. 0. 0. 0. 0. 0. 0.]]\n"
          ]
        }
      ]
    },
    {
      "cell_type": "code",
      "source": [
        "print(pred.argmax())"
      ],
      "metadata": {
        "colab": {
          "base_uri": "https://localhost:8080/"
        },
        "id": "YfVBNYMG_T8P",
        "outputId": "ecc5e7ba-5ace-46d5-ac79-f65df90d4c4a"
      },
      "execution_count": 21,
      "outputs": [
        {
          "output_type": "stream",
          "name": "stdout",
          "text": [
            "2\n"
          ]
        }
      ]
    },
    {
      "cell_type": "code",
      "source": [],
      "metadata": {
        "id": "OV_ppVP8_kH2"
      },
      "execution_count": null,
      "outputs": []
    }
  ],
  "metadata": {
    "colab": {
      "provenance": [],
      "gpuType": "T4"
    },
    "kernelspec": {
      "display_name": "Python 3",
      "name": "python3"
    },
    "language_info": {
      "name": "python"
    },
    "accelerator": "GPU"
  },
  "nbformat": 4,
  "nbformat_minor": 0
}